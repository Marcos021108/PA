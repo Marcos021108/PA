{
  "nbformat": 4,
  "nbformat_minor": 0,
  "metadata": {
    "colab": {
      "provenance": [],
      "authorship_tag": "ABX9TyPdq9fruzc3Br20zwGmti6N",
      "include_colab_link": true
    },
    "kernelspec": {
      "name": "python3",
      "display_name": "Python 3"
    },
    "language_info": {
      "name": "python"
    }
  },
  "cells": [
    {
      "cell_type": "markdown",
      "metadata": {
        "id": "view-in-github",
        "colab_type": "text"
      },
      "source": [
        "<a href=\"https://colab.research.google.com/github/Marcos021108/PA/blob/main/ResolucaoprovaLacos.ipynb\" target=\"_parent\"><img src=\"https://colab.research.google.com/assets/colab-badge.svg\" alt=\"Open In Colab\"/></a>"
      ]
    },
    {
      "cell_type": "code",
      "source": [
        "from math import e\n",
        "print(\"adivinhe o número de 1 a 100 \")\n",
        "print(\"você começa com 10 pontos\")\n",
        "import random\n",
        "N_e = random.randint(1, 100)\n",
        "N_P = 0\n",
        "cont_E = 0\n",
        "pontos = 10\n",
        "\n",
        "while N_P != N_e:\n",
        "  N_P = int(input(\"Digite um número e tente adivinhar: \"))\n",
        "  if N_P <= 0 or N_P > 100:\n",
        "    print(\"número inválido\")\n",
        "    N_P = int(input(\"Digite um número e tente adivinhar: \"))\n",
        "    continue\n",
        "  if N_P > N_e:\n",
        "    print(\"o número está acima\")\n",
        "    cont_E = cont_E + 1\n",
        "    pontos = pontos - 1\n",
        "    calc = N_P - N_e\n",
        "    if calc <= 5:\n",
        "      print(\"você está muito próximo\")\n",
        "    elif   calc > 5 and calc <= 10:\n",
        "        print(\"você está perto\")\n",
        "    elif calc > 10 and calc <= 20:\n",
        "        print(\"você está longe\")\n",
        "    elif calc > 20:\n",
        "        print(\"você está muito longe\")\n",
        "  if N_P < N_e:\n",
        "    print(\"o número está abaixo\")\n",
        "    cont_E = cont_E + 1\n",
        "    pontos = pontos - 1\n",
        "    calc = N_e - N_P\n",
        "    if calc <= 5:\n",
        "        print(\"você está muito próximo\")\n",
        "    elif   calc > 5 and calc <= 10:\n",
        "        print(\"você está perto\")\n",
        "    elif calc > 10 and calc <= 20:\n",
        "        print(\"você está longe\")\n",
        "    elif calc > 20:\n",
        "        print(\"você está muito longe\")\n",
        "  if pontos == 0:\n",
        "    print(\"você perdeu\")\n",
        "    break\n",
        "  else:\n",
        "    print(\"você acertou\")\n",
        "    print(\"você tentou\", cont_E, \"vezes\")\n",
        "    print(\"você fez\", pontos, \"pontos\")"
      ],
      "metadata": {
        "colab": {
          "base_uri": "https://localhost:8080/",
          "height": 106
        },
        "id": "JJzLBylZUxuU",
        "outputId": "37ee9b1e-14fc-4460-87e9-b7475dcc9c57"
      },
      "execution_count": null,
      "outputs": [
        {
          "output_type": "error",
          "ename": "IndentationError",
          "evalue": "expected an indented block after 'else' statement on line 45 (<ipython-input-32-a8619f95346e>, line 46)",
          "traceback": [
            "\u001b[0;36m  File \u001b[0;32m\"<ipython-input-32-a8619f95346e>\"\u001b[0;36m, line \u001b[0;32m46\u001b[0m\n\u001b[0;31m    print(\"você acertou\")\u001b[0m\n\u001b[0m                         ^\u001b[0m\n\u001b[0;31mIndentationError\u001b[0m\u001b[0;31m:\u001b[0m expected an indented block after 'else' statement on line 45\n"
          ]
        }
      ]
    },
    {
      "cell_type": "markdown",
      "source": [],
      "metadata": {
        "id": "FYs4AUqmU2yQ"
      }
    },
    {
      "cell_type": "code",
      "source": [
        "print(\".MENU\")\n",
        "print(\"Deseja inserir um produto: 1. sim, 2. não\")\n",
        "op = int(input(\"escolha uma opção: \"))\n",
        "V_P = 0\n",
        "while op == 1:\n",
        "    V_p = int(input(\"digite o valor do produto R$:\"))\n",
        "    V_P = V_P + V_p\n",
        "    print(\"deseja continuar?\")\n",
        "    op = int(input(\"1. sim 2.não\"))\n",
        "    if op == 1:\n",
        "        continue\n",
        "    else:\n",
        "\n",
        "        print(\".Menu\")\n",
        "        print(\"1. a vista 5% de desconto 2.parcelado em 10x \")\n",
        "        op = int(input(\"deseja pagar a vista ou parcelado 1. a vista, 2. parcelado\"))\n",
        "        if op == 1:\n",
        "                desc = V_P * 0.05\n",
        "                v_f = V_P - desc\n",
        "                print(\"o valor final da sua compra é de R$\", v_f)\n",
        "                break\n",
        "else:\n",
        "                parcel = V_P / 10\n",
        "                print(\"O valor da sua compra foi de R$:\", V_P)\n",
        "                print(\"o valor da parcela é de R$:\", parcel)"
      ],
      "metadata": {
        "id": "wNVHDQ6vUywh"
      },
      "execution_count": null,
      "outputs": []
    }
  ]
}