{
  "nbformat": 4,
  "nbformat_minor": 0,
  "metadata": {
    "colab": {
      "provenance": [],
      "include_colab_link": true
    },
    "kernelspec": {
      "name": "python3",
      "display_name": "Python 3"
    },
    "language_info": {
      "name": "python"
    }
  },
  "cells": [
    {
      "cell_type": "markdown",
      "metadata": {
        "id": "view-in-github",
        "colab_type": "text"
      },
      "source": [
        "<a href=\"https://colab.research.google.com/github/Marcos021108/PA/blob/main/C%C3%B3pia_de_Exercicio_LISTAS_07_08_24.ipynb\" target=\"_parent\"><img src=\"https://colab.research.google.com/assets/colab-badge.svg\" alt=\"Open In Colab\"/></a>"
      ]
    },
    {
      "cell_type": "markdown",
      "source": [
        "# **Exercícios utilizando Listas Python**"
      ],
      "metadata": {
        "id": "Fv1r44TLwVKM"
      }
    },
    {
      "cell_type": "markdown",
      "source": [
        "## 1. Soma dos Elementos da Lista\n",
        "Dada uma lista de números, calcule a soma de todos os elementos."
      ],
      "metadata": {
        "id": "b9nEDJF0wjrc"
      }
    },
    {
      "cell_type": "code",
      "execution_count": null,
      "metadata": {
        "id": "woHYcqQCwA-u",
        "colab": {
          "base_uri": "https://localhost:8080/"
        },
        "outputId": "c6dc52ae-5e54-4892-a567-811ceadf7cbc"
      },
      "outputs": [
        {
          "output_type": "stream",
          "name": "stdout",
          "text": [
            "15\n"
          ]
        }
      ],
      "source": [
        "lista = [1, 2, 3, 4, 5]\n",
        "soma = sum(lista)\n",
        "print(soma)"
      ]
    },
    {
      "cell_type": "markdown",
      "source": [
        "## 2. Produto dos elementos da lista\n",
        "Dada uma lista de números, calcule o produto de todos os elementos."
      ],
      "metadata": {
        "id": "jRKcmWKiw0z8"
      }
    },
    {
      "cell_type": "code",
      "source": [
        "lista2 = [1, 2, 3, 4, 5]\n",
        "produto = 1\n",
        "for numero in lista2:\n",
        "    produto *= numero\n",
        "print(produto)"
      ],
      "metadata": {
        "id": "fLbEGjowwaZe",
        "colab": {
          "base_uri": "https://localhost:8080/"
        },
        "outputId": "b276971f-da85-4194-e59b-70d2f69f1495"
      },
      "execution_count": null,
      "outputs": [
        {
          "output_type": "stream",
          "name": "stdout",
          "text": [
            "120\n"
          ]
        }
      ]
    },
    {
      "cell_type": "markdown",
      "source": [
        "## 3. Encontre o menor elemento\n",
        "Dada uma lista de números, encontre o menor elemento."
      ],
      "metadata": {
        "id": "-Er6OsAyxFQj"
      }
    },
    {
      "cell_type": "code",
      "source": [
        "lista3 = [1, 2, 3, 4, 5]\n",
        "menor = min(lista3)\n",
        "print(menor)"
      ],
      "metadata": {
        "id": "KVoiJ_u0xKvc",
        "colab": {
          "base_uri": "https://localhost:8080/"
        },
        "outputId": "3bd79411-60b8-45ec-ff3c-18fc55056f51"
      },
      "execution_count": null,
      "outputs": [
        {
          "output_type": "stream",
          "name": "stdout",
          "text": [
            "1\n"
          ]
        }
      ]
    },
    {
      "cell_type": "markdown",
      "source": [
        "## 4. Encontre o maior elemento\n",
        "Dada uma lista de números, encontre o maior elemento."
      ],
      "metadata": {
        "id": "WXYaMI7FxQXk"
      }
    },
    {
      "cell_type": "code",
      "source": [
        "lista4 = [1, 2, 3, 4, 5]\n",
        "maior = max(lista4)\n",
        "print(maior)"
      ],
      "metadata": {
        "id": "DoNhSLyuxb19",
        "colab": {
          "base_uri": "https://localhost:8080/"
        },
        "outputId": "926b54ad-fbf1-492e-996f-ede03cb42151"
      },
      "execution_count": null,
      "outputs": [
        {
          "output_type": "stream",
          "name": "stdout",
          "text": [
            "5\n"
          ]
        }
      ]
    },
    {
      "cell_type": "markdown",
      "source": [
        "## 5. Contar Ocorrências de um Elemento\n",
        "Dada uma lista de números e um número alvo, conte quantas vezes o alvo aparece na lista."
      ],
      "metadata": {
        "id": "BkHVHCiPxgTs"
      }
    },
    {
      "cell_type": "code",
      "source": [
        "lista5 = [1, 2, 3, 4, 3, 2, 1]\n",
        "alvo = 2\n",
        "ocorrencias = lista5.count(alvo)\n",
        "print(ocorrencias)"
      ],
      "metadata": {
        "id": "Hreq56gixmYC",
        "colab": {
          "base_uri": "https://localhost:8080/"
        },
        "outputId": "8f6bdac3-4d60-478b-971a-a21abb7e5fff"
      },
      "execution_count": null,
      "outputs": [
        {
          "output_type": "stream",
          "name": "stdout",
          "text": [
            "2\n"
          ]
        }
      ]
    },
    {
      "cell_type": "markdown",
      "source": [
        "## 6. Remover duplicatas\n",
        "Dada uma lista de números, crie uma nova lista sem elementos duplicados."
      ],
      "metadata": {
        "id": "zSsy12F-xrVT"
      }
    },
    {
      "cell_type": "code",
      "source": [
        "lista6 = [1, 2, 2, 3, 4, 4, 5]\n",
        "sem_duplicatas = list(set(lista6))\n",
        "print(sem_duplicatas)"
      ],
      "metadata": {
        "id": "9N35r8abxydM",
        "colab": {
          "base_uri": "https://localhost:8080/"
        },
        "outputId": "539f5afd-fbb3-4aa7-b77a-2186480ff94d"
      },
      "execution_count": null,
      "outputs": [
        {
          "output_type": "stream",
          "name": "stdout",
          "text": [
            "[1, 2, 3, 4, 5]\n"
          ]
        }
      ]
    },
    {
      "cell_type": "markdown",
      "source": [
        "## 7. Inverter uma lista\n",
        "Dada uma lista de números, inverta a ordem dos elementos."
      ],
      "metadata": {
        "id": "Ev1YAUF9x3o8"
      }
    },
    {
      "cell_type": "code",
      "source": [
        "lista6 = [1, 2, 3, 4, 5]\n",
        "lista6.reverse()\n",
        "print(lista6)"
      ],
      "metadata": {
        "id": "X8YLy9uqx9kz",
        "colab": {
          "base_uri": "https://localhost:8080/"
        },
        "outputId": "f2740b2c-5bb0-4d21-9d9d-9792570853a5"
      },
      "execution_count": null,
      "outputs": [
        {
          "output_type": "stream",
          "name": "stdout",
          "text": [
            "[5, 4, 3, 2, 1]\n"
          ]
        }
      ]
    },
    {
      "cell_type": "markdown",
      "source": [
        "## 8. Intercalar Duas Listas\n",
        "Dadas duas listas de números, crie uma nova lista intercalando os elementos das duas listas."
      ],
      "metadata": {
        "id": "1k2bPDTPyB-L"
      }
    },
    {
      "cell_type": "code",
      "source": [
        "lista81 = [1, 3, 5]\n",
        "lista82 = [2, 4, 6]\n",
        "\n",
        "lista83 = []\n",
        "for i in range(min(len(lista81), len(lista82))):\n",
        "    lista83.append(lista81[i])\n",
        "    lista83.append(lista82[i])\n",
        "lista83"
      ],
      "metadata": {
        "id": "TXajIrGxyH3j",
        "colab": {
          "base_uri": "https://localhost:8080/"
        },
        "outputId": "b65e902e-5800-4135-8e35-4c3ac4defafb"
      },
      "execution_count": null,
      "outputs": [
        {
          "output_type": "execute_result",
          "data": {
            "text/plain": [
              "[1, 2, 3, 4, 5, 6]"
            ]
          },
          "metadata": {},
          "execution_count": 8
        }
      ]
    },
    {
      "cell_type": "markdown",
      "source": [
        "## 9. Somar Elementos Correspondentes de Duas Listas\n",
        "Dadas duas listas de números de mesmo tamanho, crie uma nova lista com a soma dos elementos correspondentes."
      ],
      "metadata": {
        "id": "ewiPtV9MyP1q"
      }
    },
    {
      "cell_type": "code",
      "source": [
        "lista91 = [1, 2, 3]\n",
        "lista92 = [4, 5, 6]\n",
        "\n",
        "lista93 = []\n",
        "for i in range(min(len(lista91), len(lista92))):\n",
        "    lista93.append(lista91[i] + lista92[i])\n",
        "lista93"
      ],
      "metadata": {
        "id": "0-4qe89uyVWT",
        "colab": {
          "base_uri": "https://localhost:8080/"
        },
        "outputId": "18213692-2840-4d79-fcf1-35d9caabf513"
      },
      "execution_count": null,
      "outputs": [
        {
          "output_type": "execute_result",
          "data": {
            "text/plain": [
              "[5, 7, 9]"
            ]
          },
          "metadata": {},
          "execution_count": 9
        }
      ]
    },
    {
      "cell_type": "markdown",
      "source": [
        "## 10. Mover Zeros para o Fim\n",
        "Dada uma lista de números, mova todos os zeros para o final da lista."
      ],
      "metadata": {
        "id": "QX-QkQg5ybQa"
      }
    },
    {
      "cell_type": "code",
      "source": [
        "lista10 = [0, 1, 0, 3, 12]\n",
        "lista10.sort(key=lambda x: x == 0)\n",
        "print(lista10)"
      ],
      "metadata": {
        "id": "i8jHZT30ygD6",
        "colab": {
          "base_uri": "https://localhost:8080/"
        },
        "outputId": "800b8672-791a-4a6d-f32c-56b6d4110d10"
      },
      "execution_count": null,
      "outputs": [
        {
          "output_type": "stream",
          "name": "stdout",
          "text": [
            "[1, 3, 12, 0, 0]\n"
          ]
        }
      ]
    },
    {
      "cell_type": "markdown",
      "source": [
        "# **Exercícios**\n",
        "##Exercício 1: Manipulação de Listas\n",
        "\n",
        "- Defina uma lista com 5 nomes de cidades.\n",
        "- Adicione uma nova cidade ao final da lista.\n",
        "- Remova a segunda cidade da lista.\n",
        "- Imprima a lista resultante."
      ],
      "metadata": {
        "id": "IBoHmlKi4v5q"
      }
    },
    {
      "cell_type": "code",
      "source": [
        "cidades = ['São Paulo', 'Rio de Janeiro', 'Belo Horizonte', 'Porto Alegre', 'Salvador']\n",
        "\n",
        "cidades.append('Paraná')\n",
        "cidades.remove('Rio de Janeiro')\n",
        "\n",
        "print(cidades)"
      ],
      "metadata": {
        "id": "HKgqBKQ046wl"
      },
      "execution_count": null,
      "outputs": []
    },
    {
      "cell_type": "markdown",
      "source": [
        "##Exercício 2: Operações com Tuplas\n",
        "\n",
        "- Defina uma tupla com 4 cores.\n",
        "- Crie uma nova tupla que seja a concatenação da tupla original com outra contendo mais 2 cores.\n",
        "- Imprima a nova tupla."
      ],
      "metadata": {
        "id": "2pmkOfOv4wsd"
      }
    },
    {
      "cell_type": "code",
      "source": [
        "cores = ('vermelho', 'azul', 'verde', 'preto')\n",
        "\n",
        "novas_cores = cores + ('branco', 'laranja')\n",
        "\n",
        "print(novas_cores)"
      ],
      "metadata": {
        "id": "224lJM_949Pq"
      },
      "execution_count": null,
      "outputs": []
    },
    {
      "cell_type": "markdown",
      "source": [
        "##Exercício 3: Dicionários Simples\n",
        "\n",
        "Crie um dicionário para representar um aluno, contendo \"nome\", \"idade\" e \"curso\".\n",
        "- Atualize a idade do aluno.\n",
        "- Adicione uma nova chave \"nota\" com um valor.\n",
        "- Imprima o dicionário atualizado"
      ],
      "metadata": {
        "id": "DVcfmW594y7D"
      }
    },
    {
      "cell_type": "code",
      "source": [
        "Aluno = {'nome': 'Josislande', 'idade': 100, 'curso': 'karem'}\n",
        "\n",
        "Aluno['idade'] = 20\n",
        "Aluno['nota'] = 10\n",
        "\n",
        "print(Aluno)"
      ],
      "metadata": {
        "id": "YDBgodRL4921"
      },
      "execution_count": null,
      "outputs": []
    },
    {
      "cell_type": "markdown",
      "source": [
        "##Exercício 4: Listas e Dicionários\n",
        "\n",
        "- Crie uma lista de dicionários, onde cada dicionário representa um produto com as chaves \"nome\" e \"preço\".\n",
        "- Adicione um novo produto à lista.\n",
        "- Atualize o preço do primeiro produto na lista.\n",
        "- Imprima a lista resultante."
      ],
      "metadata": {
        "id": "GAf-rSqG42pz"
      }
    },
    {
      "cell_type": "code",
      "source": [
        "produtos = [{'nome': 'bananão grosso', 'preço': 20}, {'nome': 'uvinha totosa', 'preço': 10.48}]\n",
        "\n",
        "produtos.append({'nome': 'contra o filé', 'preço': 15.00})\n",
        "\n",
        "produtos[0]['preço'] = 25.50\n",
        "\n",
        "print(produtos)\n"
      ],
      "metadata": {
        "id": "g5DerKx24-UV"
      },
      "execution_count": null,
      "outputs": []
    },
    {
      "cell_type": "markdown",
      "source": [
        "##Exercício 5: Analisando uma Lista de Tuplas\n",
        "\n",
        "- Crie uma lista de tuplas, onde cada tupla contém um par (nome, idade).\n",
        "- Encontre e imprima o nome da pessoa mais velha.\n",
        "- Encontre e imprima a idade média das pessoas."
      ],
      "metadata": {
        "id": "vtJaPDgB45aT"
      }
    },
    {
      "cell_type": "code",
      "source": [
        "pessoas = [('João',30), ('Maria',25), ('Pedro',35)]\n",
        "\n",
        "mais_velho = max(pessoas, key=lambda x: x[1])\n",
        "\n",
        "idade_media = sum(idade for _, idade in pessoas) / len(pessoas)\n",
        "\n",
        "print(\"Pessoa mais velha:\", mais_velho[0])\n",
        "print(\"Idade média das pessoas:\", idade_media)"
      ],
      "metadata": {
        "id": "QKO3kd4o4-wk"
      },
      "execution_count": null,
      "outputs": []
    }
  ]
}