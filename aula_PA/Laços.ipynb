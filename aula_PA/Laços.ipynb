{
 "cells": [
  {
   "cell_type": "markdown",
   "id": "4ef97c72",
   "metadata": {},
   "source": [
    "1) Crie um jogo onde o usuário deve adivinhar um número secreto entre 1 e 100. O programa deve fornecer dicas sobre se o palpite do usuário está muito alto ou muito baixo. O jogo deve continuar até que o usuário adivinhe corretamente ou escolha sair."
   ]
  },
  {
   "cell_type": "code",
   "execution_count": 57,
   "id": "56c883f4",
   "metadata": {},
   "outputs": [
    {
     "name": "stdout",
     "output_type": "stream",
     "text": [
      "adivinhe o número de 1 a 100 \n"
     ]
    },
    {
     "ename": "KeyboardInterrupt",
     "evalue": "Interrupted by user",
     "output_type": "error",
     "traceback": [
      "\u001b[1;31m---------------------------------------------------------------------------\u001b[0m",
      "\u001b[1;31mKeyboardInterrupt\u001b[0m                         Traceback (most recent call last)",
      "Cell \u001b[1;32mIn [57], line 3\u001b[0m\n\u001b[0;32m      1\u001b[0m \u001b[38;5;28mprint\u001b[39m(\u001b[38;5;124m\"\u001b[39m\u001b[38;5;124madivinhe o número de 1 a 100 \u001b[39m\u001b[38;5;124m\"\u001b[39m)\n\u001b[1;32m----> 3\u001b[0m N_P \u001b[38;5;241m=\u001b[39m \u001b[38;5;28mint\u001b[39m(\u001b[38;5;28minput\u001b[39m(\u001b[38;5;124m\"\u001b[39m\u001b[38;5;124mDigite um número e tente adivinhar: \u001b[39m\u001b[38;5;124m\"\u001b[39m))\n\u001b[0;32m      4\u001b[0m N_e \u001b[38;5;241m=\u001b[39m \u001b[38;5;241m69\u001b[39m\n\u001b[0;32m      5\u001b[0m cont_E \u001b[38;5;241m=\u001b[39m \u001b[38;5;241m0\u001b[39m\n",
      "File \u001b[1;32mC:\\Python310\\lib\\site-packages\\ipykernel\\kernelbase.py:1177\u001b[0m, in \u001b[0;36mKernel.raw_input\u001b[1;34m(self, prompt)\u001b[0m\n\u001b[0;32m   1173\u001b[0m \u001b[38;5;28;01mif\u001b[39;00m \u001b[38;5;129;01mnot\u001b[39;00m \u001b[38;5;28mself\u001b[39m\u001b[38;5;241m.\u001b[39m_allow_stdin:\n\u001b[0;32m   1174\u001b[0m     \u001b[38;5;28;01mraise\u001b[39;00m StdinNotImplementedError(\n\u001b[0;32m   1175\u001b[0m         \u001b[38;5;124m\"\u001b[39m\u001b[38;5;124mraw_input was called, but this frontend does not support input requests.\u001b[39m\u001b[38;5;124m\"\u001b[39m\n\u001b[0;32m   1176\u001b[0m     )\n\u001b[1;32m-> 1177\u001b[0m \u001b[38;5;28;01mreturn\u001b[39;00m \u001b[38;5;28;43mself\u001b[39;49m\u001b[38;5;241;43m.\u001b[39;49m\u001b[43m_input_request\u001b[49m\u001b[43m(\u001b[49m\n\u001b[0;32m   1178\u001b[0m \u001b[43m    \u001b[49m\u001b[38;5;28;43mstr\u001b[39;49m\u001b[43m(\u001b[49m\u001b[43mprompt\u001b[49m\u001b[43m)\u001b[49m\u001b[43m,\u001b[49m\n\u001b[0;32m   1179\u001b[0m \u001b[43m    \u001b[49m\u001b[38;5;28;43mself\u001b[39;49m\u001b[38;5;241;43m.\u001b[39;49m\u001b[43m_parent_ident\u001b[49m\u001b[43m[\u001b[49m\u001b[38;5;124;43m\"\u001b[39;49m\u001b[38;5;124;43mshell\u001b[39;49m\u001b[38;5;124;43m\"\u001b[39;49m\u001b[43m]\u001b[49m\u001b[43m,\u001b[49m\n\u001b[0;32m   1180\u001b[0m \u001b[43m    \u001b[49m\u001b[38;5;28;43mself\u001b[39;49m\u001b[38;5;241;43m.\u001b[39;49m\u001b[43mget_parent\u001b[49m\u001b[43m(\u001b[49m\u001b[38;5;124;43m\"\u001b[39;49m\u001b[38;5;124;43mshell\u001b[39;49m\u001b[38;5;124;43m\"\u001b[39;49m\u001b[43m)\u001b[49m\u001b[43m,\u001b[49m\n\u001b[0;32m   1181\u001b[0m \u001b[43m    \u001b[49m\u001b[43mpassword\u001b[49m\u001b[38;5;241;43m=\u001b[39;49m\u001b[38;5;28;43;01mFalse\u001b[39;49;00m\u001b[43m,\u001b[49m\n\u001b[0;32m   1182\u001b[0m \u001b[43m\u001b[49m\u001b[43m)\u001b[49m\n",
      "File \u001b[1;32mC:\\Python310\\lib\\site-packages\\ipykernel\\kernelbase.py:1219\u001b[0m, in \u001b[0;36mKernel._input_request\u001b[1;34m(self, prompt, ident, parent, password)\u001b[0m\n\u001b[0;32m   1216\u001b[0m             \u001b[38;5;28;01mbreak\u001b[39;00m\n\u001b[0;32m   1217\u001b[0m \u001b[38;5;28;01mexcept\u001b[39;00m \u001b[38;5;167;01mKeyboardInterrupt\u001b[39;00m:\n\u001b[0;32m   1218\u001b[0m     \u001b[38;5;66;03m# re-raise KeyboardInterrupt, to truncate traceback\u001b[39;00m\n\u001b[1;32m-> 1219\u001b[0m     \u001b[38;5;28;01mraise\u001b[39;00m \u001b[38;5;167;01mKeyboardInterrupt\u001b[39;00m(\u001b[38;5;124m\"\u001b[39m\u001b[38;5;124mInterrupted by user\u001b[39m\u001b[38;5;124m\"\u001b[39m) \u001b[38;5;28;01mfrom\u001b[39;00m \u001b[38;5;28mNone\u001b[39m\n\u001b[0;32m   1220\u001b[0m \u001b[38;5;28;01mexcept\u001b[39;00m \u001b[38;5;167;01mException\u001b[39;00m:\n\u001b[0;32m   1221\u001b[0m     \u001b[38;5;28mself\u001b[39m\u001b[38;5;241m.\u001b[39mlog\u001b[38;5;241m.\u001b[39mwarning(\u001b[38;5;124m\"\u001b[39m\u001b[38;5;124mInvalid Message:\u001b[39m\u001b[38;5;124m\"\u001b[39m, exc_info\u001b[38;5;241m=\u001b[39m\u001b[38;5;28;01mTrue\u001b[39;00m)\n",
      "\u001b[1;31mKeyboardInterrupt\u001b[0m: Interrupted by user"
     ]
    }
   ],
   "source": [
    "print(\"adivinhe o número de 1 a 100 \")\n",
    "\n",
    "N_P = int(input(\"Digite um número e tente adivinhar: \"))\n",
    "N_e = 69\n",
    "cont_E = 0\n",
    "\n",
    "while N_P != N_e:\n",
    "    if N_P >= 70:\n",
    "            print(\"você passou do número\")\n",
    "            N_P = int(input(\"Digite um número e tente adivinhar: \"))\n",
    "    elif N_P <= 68:\n",
    "        print (\"você está abaixo do número\")\n",
    "        N_P = int(input(\"Digite um número e tente adivinhar: \"))\n",
    "print(\"você acertou\")"
   ]
  },
  {
   "cell_type": "markdown",
   "id": "b6798e19",
   "metadata": {},
   "source": [
    "2) Crie um programa que simula um caixa de supermercado. O usuário deve inserir o preço de cada item comprado e, após inserir todos os itens, o programa deve calcular o total da compra e aplicar um desconto de 5%, se o valor for pago a vista, caso contrário cobrança normal. Execute o programa até o usuário disser que deseja continuar. "
   ]
  },
  {
   "cell_type": "code",
   "execution_count": 84,
   "id": "c0f34acd",
   "metadata": {
    "scrolled": true
   },
   "outputs": [
    {
     "name": "stdout",
     "output_type": "stream",
     "text": [
      ".MENU\n",
      "Deseja inserir um produto: 1. sim, 2. não\n",
      "escolha uma opção: 1\n",
      "digite o valor do produto R$:100\n",
      "deseja continuar?\n",
      "1. sim 2.não1\n",
      "digite o valor do produto R$:900\n",
      "deseja continuar?\n",
      "1. sim 2.não2\n",
      ".Menu\n",
      "1. a vista 5% de desconto 2.parcelado em 10x \n",
      "deseja pagar a vista ou parcelado 1. a vista, 2. parcelado1\n",
      "o valor final da sua compra é de R$ 950.0\n"
     ]
    }
   ],
   "source": [
    "print(\".MENU\")         \n",
    "print(\"Deseja inserir um produto: 1. sim, 2. não\")           \n",
    "op = int(input(\"escolha uma opção: \"))            \n",
    "V_P = 0             \n",
    "while op == 1:\n",
    "    V_p = int(input(\"digite o valor do produto R$:\"))           \n",
    "    V_P = V_P + V_p          \n",
    "    print(\"deseja continuar?\")            \n",
    "    op = int(input(\"1. sim 2.não\"))      \n",
    "    if op == 1:\n",
    "        continue\n",
    "    else:\n",
    "        \n",
    "        print(\".Menu\")\n",
    "        print(\"1. a vista 5% de desconto 2.parcelado em 10x \")\n",
    "        op = int(input(\"deseja pagar a vista ou parcelado 1. a vista, 2. parcelado\"))\n",
    "        if op == 1:\n",
    "                desc = V_P * 0.05\n",
    "                v_f = V_P - desc\n",
    "                print(\"o valor final da sua compra é de R$\", v_f)\n",
    "                break\n",
    "else:\n",
    "                parcel = V_P / 10\n",
    "                print(\"O valor da sua compra foi de R$:\", V_P)\n",
    "                print(\"o valor da parcela é de R$:\", parcel)\n",
    "                "
   ]
  },
  {
   "cell_type": "code",
   "execution_count": null,
   "id": "4aacbc9c",
   "metadata": {},
   "outputs": [],
   "source": []
  },
  {
   "cell_type": "code",
   "execution_count": null,
   "id": "45056199",
   "metadata": {},
   "outputs": [],
   "source": []
  }
 ],
 "metadata": {
  "kernelspec": {
   "display_name": "Python 3 (ipykernel)",
   "language": "python",
   "name": "python3"
  },
  "language_info": {
   "codemirror_mode": {
    "name": "ipython",
    "version": 3
   },
   "file_extension": ".py",
   "mimetype": "text/x-python",
   "name": "python",
   "nbconvert_exporter": "python",
   "pygments_lexer": "ipython3",
   "version": "3.10.7"
  }
 },
 "nbformat": 4,
 "nbformat_minor": 5
}
